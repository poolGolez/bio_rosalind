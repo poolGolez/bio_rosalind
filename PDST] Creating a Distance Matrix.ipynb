{
 "cells": [
  {
   "cell_type": "code",
   "execution_count": 1,
   "metadata": {},
   "outputs": [],
   "source": [
    "from utils.file_utils import load_fasta\n",
    "from utils.sequence_utils import hamming_distance"
   ]
  },
  {
   "cell_type": "code",
   "execution_count": 2,
   "metadata": {},
   "outputs": [],
   "source": [
    "dnas = load_fasta('./data/PDST.fa')"
   ]
  },
  {
   "cell_type": "code",
   "execution_count": 3,
   "metadata": {},
   "outputs": [],
   "source": [
    "def p_distance(text1, text2):\n",
    "    return hamming_distance(text1, text2)/len(text1)\n",
    "\n",
    "def create_distance_matrix(dnas):\n",
    "    result = [[0.0 for i in range(len(dnas))]  for i in range(len(dnas))]\n",
    "    for row_i in range(len(dnas)):\n",
    "        for col_i in range(row_i+1, len(dnas)):\n",
    "            dna1 = dnas[row_i]\n",
    "            dna2 = dnas[col_i]\n",
    "            distance = p_distance(dna1, dna2)\n",
    "            result[row_i][col_i] = distance\n",
    "            result[col_i][row_i] = distance\n",
    "    \n",
    "    return result"
   ]
  },
  {
   "cell_type": "code",
   "execution_count": 4,
   "metadata": {},
   "outputs": [
    {
     "name": "stdout",
     "output_type": "stream",
     "text": [
      "0.0 0.5538628944504896 0.3144722524483134 0.46789989118607184 0.5821545157780196 0.499455930359086 0.6420021762785637 0.5571273122959739 0.6430903155603918 \n",
      "0.5538628944504896 0.0 0.4439608269858542 0.3253536452665941 0.5690968443960827 0.5560391730141458 0.6278563656147987 0.4766050054406964 0.6474428726877041 \n",
      "0.3144722524483134 0.4439608269858542 0.0 0.28618063112078346 0.528835690968444 0.30794341675734493 0.5897714907508161 0.4689880304678999 0.6093579978237215 \n",
      "0.46789989118607184 0.3253536452665941 0.28618063112078346 0.0 0.4428726877040261 0.4472252448313384 0.5429815016322089 0.30794341675734493 0.5865070729053319 \n",
      "0.5821545157780196 0.5690968443960827 0.528835690968444 0.4428726877040261 0.0 0.5984766050054406 0.3003264417845484 0.3188248095756257 0.31991294885745375 \n",
      "0.499455930359086 0.5560391730141458 0.30794341675734493 0.4472252448313384 0.5984766050054406 0.0 0.6311207834602829 0.5625680087051143 0.6452665941240479 \n",
      "0.6420021762785637 0.6278563656147987 0.5897714907508161 0.5429815016322089 0.3003264417845484 0.6311207834602829 0.0 0.47551686615886835 0.47551686615886835 \n",
      "0.5571273122959739 0.4766050054406964 0.4689880304678999 0.30794341675734493 0.3188248095756257 0.5625680087051143 0.47551686615886835 0.0 0.5059847660500544 \n",
      "0.6430903155603918 0.6474428726877041 0.6093579978237215 0.5865070729053319 0.31991294885745375 0.6452665941240479 0.47551686615886835 0.5059847660500544 0.0 \n"
     ]
    }
   ],
   "source": [
    "matrix = create_distance_matrix(list(dnas.values()))\n",
    "for i in matrix:\n",
    "    for j in i:\n",
    "        print(j, end=' ')\n",
    "    print()"
   ]
  },
  {
   "cell_type": "code",
   "execution_count": null,
   "metadata": {},
   "outputs": [],
   "source": []
  }
 ],
 "metadata": {
  "kernelspec": {
   "display_name": "Python 3",
   "language": "python",
   "name": "python3"
  },
  "language_info": {
   "codemirror_mode": {
    "name": "ipython",
    "version": 3
   },
   "file_extension": ".py",
   "mimetype": "text/x-python",
   "name": "python",
   "nbconvert_exporter": "python",
   "pygments_lexer": "ipython3",
   "version": "3.6.9"
  }
 },
 "nbformat": 4,
 "nbformat_minor": 4
}
